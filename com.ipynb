import numpy as np
import matplotlib.pyplot as plt

def mkSignal(dir, n, noise, d):
    return np.exp(2.0j * np.pi * d * np.sin(dir) * np.arange(n) ) +  2.0 * noise * ( (np.random.rand(n) - 0.5) + 1.0j * (np.random.rand(n)) - 0.5) # random erzeugt irgendwas zwischen 0 und 1

def mkSteer(dat, d):
    n = np.size(dat)
    bf = np.array([ np.sum(dat * np.exp(-2.0j * np.pi * d * np.sin(dir) * np.arange(n) )) for dir in (np.arange(180) - 90) / 180.0 * np.pi ])
    return bf

def calcDiff(dir, n = 16, d=0.45, noise=0.001, dPhi=3):
    res = (np.abs(mkSteer(mkSignal(dir=dir,n=n, d=d, noise=noise) *np.hanning(16), d = d))) 
    xs = np.arange(180)
    m = np.argmax(res)
    return (np.sum(xs[m-dPhi:m+dPhi] *  res[m-dPhi:m+dPhi]) / np.sum(res[m-dPhi:m+dPhi]) - 90.0)

xs = np.arange(300)/100 + 40.0

diff8 = np.array([ calcDiff(dir/180.0*np.pi, d=0.45, noise=0.01, n=16, dPhi = 8)  for dir in xs ])
diff12 = np.array([ calcDiff(dir/180.0*np.pi, d=0.45, noise=0.01, n=16, dPhi = 12)  for dir in xs ])
diff16 = np.array([ calcDiff(dir/180.0*np.pi, d=0.45, noise=0.01, n=16, dPhi = 16)  for dir in xs ])
diff32 = np.array([ calcDiff(dir/180.0*np.pi, d=0.45, noise=0.01, n=16, dPhi = 32)  for dir in xs ])

plt.plot(xs, xs, color='grey', label="True Value")
plt.plot(xs, diff8, label='8 deg')
plt.plot(xs, diff12, label='12 deg')
plt.plot(xs, diff16, label='16 deg')
plt.plot(xs, diff32, label='32 deg')
plt.xlabel("Signal Direction (deg)")
plt.ylabel("Estimated Direction (deg)")
plt.legend()
plt.show()

